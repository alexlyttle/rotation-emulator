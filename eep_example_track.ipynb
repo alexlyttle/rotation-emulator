{
 "metadata": {
  "language_info": {
   "codemirror_mode": {
    "name": "ipython",
    "version": 3
   },
   "file_extension": ".py",
   "mimetype": "text/x-python",
   "name": "python",
   "nbconvert_exporter": "python",
   "pygments_lexer": "ipython3",
   "version": "3.8.6"
  },
  "orig_nbformat": 2,
  "kernelspec": {
   "name": "python386jvsc74a57bd0b8092e486b5c80e4b5b2d0b544767a3efbdd73944201fedaf22204a3b9067c8e",
   "display_name": "Python 3.8.6 64-bit ('base': venv)"
  }
 },
 "nbformat": 4,
 "nbformat_minor": 2,
 "cells": [
  {
   "cell_type": "code",
   "execution_count": 1,
   "metadata": {},
   "outputs": [
    {
     "output_type": "stream",
     "name": "stdout",
     "text": [
      "Using matplotlib backend: MacOSX\n"
     ]
    }
   ],
   "source": [
    "import numpy as np\n",
    "import pandas as pd\n",
    "import os, shutil, h5py\n",
    "import matplotlib.pyplot as plt\n",
    "\n",
    "from scipy.integrate import trapz\n",
    "\n",
    "from track import Track\n",
    "\n",
    "%matplotlib"
   ]
  },
  {
   "cell_type": "code",
   "execution_count": 2,
   "metadata": {},
   "outputs": [],
   "source": [
    "data_dir = './data/example_tracks'\n",
    "\n",
    "filenames = os.listdir(data_dir)\n",
    "\n",
    "n_files = len(filenames)"
   ]
  },
  {
   "cell_type": "code",
   "execution_count": 68,
   "metadata": {},
   "outputs": [],
   "source": [
    "tracks = []\n",
    "for fn in filenames:\n",
    "    tracks.append(Track(os.path.join(data_dir, fn)))"
   ]
  },
  {
   "cell_type": "code",
   "execution_count": 69,
   "metadata": {},
   "outputs": [],
   "source": [
    "fig, ax = plt.subplots()\n",
    "\n",
    "linestyles = ['-', '--', ':']\n",
    "for track, linestyle in zip(tracks, linestyles):\n",
    "    track.plot('log(Teff)(K)', 'log(g)', ax=ax, linestyle=linestyle)\n",
    "\n",
    "ax.invert_xaxis()\n",
    "ax.invert_yaxis()\n",
    "ax.get_legend().remove()"
   ]
  },
  {
   "cell_type": "code",
   "execution_count": 71,
   "metadata": {},
   "outputs": [],
   "source": [
    "for track in tracks:\n",
    "    track.df['EEP'] = track.calculate_eep()"
   ]
  },
  {
   "cell_type": "code",
   "execution_count": 79,
   "metadata": {},
   "outputs": [],
   "source": [
    "fig, ax = plt.subplots()\n",
    "x = 'log(Teff)(K)'\n",
    "y = 'log(g)'\n",
    "\n",
    "for i, track in enumerate(tracks):\n",
    "\n",
    "    track.df.plot(x='log(Teff)(K)', y='log(g)', c='EEP', cmap='viridis', s=4, kind='scatter', ax=ax)\n",
    "\n",
    "\n",
    "    for label, index in track.eep_index.items():\n",
    "        ax.plot(*track.df.loc[index, [x, y]], 'sk')\n",
    "        ax.annotate(label, track.df.loc[index, [x, y]], textcoords='offset pixels', xytext=(4, 4))\n",
    "\n",
    "    ax.invert_xaxis()\n",
    "    ax.invert_yaxis()\n",
    "\n",
    "    if i < len(tracks) - 1:\n",
    "        fig.get_axes()[-1].remove()"
   ]
  },
  {
   "cell_type": "code",
   "execution_count": 37,
   "metadata": {},
   "outputs": [],
   "source": [
    "cols = ['EEP', 'M/Msun', 'Age(Gyr)', '[Fe/H]', 'fk', 'Rocrit', 'Prot(days)',\n",
    "       'log(Teff)(K)', 'R/Rsun', 'Z/X(surface)']"
   ]
  },
  {
   "cell_type": "code",
   "execution_count": 55,
   "metadata": {},
   "outputs": [
    {
     "output_type": "execute_result",
     "data": {
      "text/plain": [
       "<AxesSubplot:xlabel='EEP', ylabel='log(g)'>"
      ]
     },
     "metadata": {},
     "execution_count": 55
    }
   ],
   "source": [
    "df.plot(x='EEP', y='log(g)', kind='scatter')"
   ]
  },
  {
   "source": [
    "Solar teff 5776 K"
   ],
   "cell_type": "markdown",
   "metadata": {}
  }
 ]
}
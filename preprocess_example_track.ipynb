{
 "metadata": {
  "language_info": {
   "codemirror_mode": {
    "name": "ipython",
    "version": 3
   },
   "file_extension": ".py",
   "mimetype": "text/x-python",
   "name": "python",
   "nbconvert_exporter": "python",
   "pygments_lexer": "ipython3",
   "version": "3.8.6"
  },
  "orig_nbformat": 2,
  "kernelspec": {
   "name": "python386jvsc74a57bd0b8092e486b5c80e4b5b2d0b544767a3efbdd73944201fedaf22204a3b9067c8e",
   "display_name": "Python 3.8.6 64-bit ('base': venv)"
  }
 },
 "nbformat": 4,
 "nbformat_minor": 2,
 "cells": [
  {
   "cell_type": "code",
   "execution_count": 1,
   "metadata": {},
   "outputs": [],
   "source": [
    "import numpy as np\n",
    "import os, h5py\n",
    "\n",
    "from track import Track"
   ]
  },
  {
   "cell_type": "code",
   "execution_count": 2,
   "metadata": {},
   "outputs": [],
   "source": [
    "data_dir = './data/example_tracks'\n",
    "filenames = os.listdir(data_dir)\n",
    "\n",
    "n_files = len(filenames)"
   ]
  },
  {
   "cell_type": "code",
   "execution_count": 4,
   "metadata": {},
   "outputs": [
    {
     "output_type": "stream",
     "name": "stdout",
     "text": [
      "CPU times: user 3 µs, sys: 0 ns, total: 3 µs\nWall time: 4.77 µs\n"
     ]
    }
   ],
   "source": [
    "%time\n",
    "cols = ['EEP', 'M/Msun', 'Age(Gyr)', '[Fe/H]', 'fk', 'Rocrit', \n",
    "        'Prot(days)', 'log(Teff)(K)', 'R/Rsun', 'Z/X(surface)']\n",
    "\n",
    "n_cols = len(cols)\n",
    "\n",
    "data = []\n",
    "\n",
    "for i, fn in enumerate(filenames):\n",
    "    track = Track(os.path.join(data_dir, fn))\n",
    "    track.df['EEP'] = track.calculate_eep()\n",
    "    data.append(track.df.loc[track.eep_index['ZAMS']:track.eep_index['TAMS'], cols].to_numpy())\n",
    "\n",
    "data = np.concatenate(data)"
   ]
  },
  {
   "cell_type": "code",
   "execution_count": 5,
   "metadata": {},
   "outputs": [],
   "source": [
    "hdfpath = 'data/example_grid.h5'\n",
    "\n",
    "h5f = h5py.File(hdfpath, 'w')\n",
    "dset = h5f.create_dataset('data', data=data)\n",
    "dset.attrs.create('columns', cols)\n",
    "h5f.close()"
   ]
  },
  {
   "cell_type": "code",
   "execution_count": 11,
   "metadata": {},
   "outputs": [
    {
     "output_type": "stream",
     "name": "stdout",
     "text": [
      "Dataset: <HDF5 dataset \"data\": shape (1021, 10), type \"<f8\">\nColumns: ['EEP' 'M/Msun' 'Age(Gyr)' '[Fe/H]' 'fk' 'Rocrit' 'Prot(days)'\n 'log(Teff)(K)' 'R/Rsun' 'Z/X(surface)']\n"
     ]
    }
   ],
   "source": [
    "h5f = h5py.File(hdfpath)\n",
    "\n",
    "dset = h5f['data']\n",
    "print(f'Dataset: {dset}')\n",
    "print(f'Columns: {dset.attrs[\"columns\"]}')\n",
    "\n",
    "h5f.close()"
   ]
  },
  {
   "cell_type": "code",
   "execution_count": null,
   "metadata": {},
   "outputs": [],
   "source": []
  }
 ]
}